{
 "cells": [
  {
   "cell_type": "code",
   "execution_count": 1,
   "id": "b2caac53-4567-49fa-bd92-cd0f75f9e4aa",
   "metadata": {},
   "outputs": [],
   "source": [
    "import numpy as np"
   ]
  },
  {
   "cell_type": "code",
   "execution_count": 3,
   "id": "acff97cb-526d-48eb-8e00-96be4a85d0ac",
   "metadata": {},
   "outputs": [
    {
     "name": "stdout",
     "output_type": "stream",
     "text": [
      "Processing input: [1 0 1 0] → Assigned to cluster 0\n",
      "Processing input: [1 1 0 0] → Assigned to cluster 0\n",
      "Processing input: [0 1 1 0] → Assigned to cluster 1\n",
      "Processing input: [0 0 1 1] → Assigned to cluster 1\n",
      "Test Input: [1 0 1 0] → Cluster 0\n",
      "Test Input: [1 1 0 0] → Cluster 0\n",
      "Test Input: [0 0 0 1] → Cluster -1 (No matching cluster)\n",
      "Test Input: [1 1 1 0] → Cluster 0\n"
     ]
    }
   ],
   "source": [
    "class ART_1:\n",
    "    def __init__(self, input_size, num_clusters, vigilance=0.5):\n",
    "        self.input_size = input_size * 2  # Complement coding doubles the input size\n",
    "        self.num_clusters = num_clusters\n",
    "        self.vigilance = vigilance\n",
    "        self.weights = np.ones((num_clusters, self.input_size))  # Adjust weight size\n",
    "\n",
    "    def complement_code(self, input_pattern):\n",
    "        return np.concatenate((input_pattern, 1 - input_pattern))\n",
    "\n",
    "    def match(self, input_pattern, cluster):\n",
    "        return np.sum(np.minimum(input_pattern, self.weights[cluster])) / np.sum(input_pattern)\n",
    "\n",
    "    def update_weights(self, cluster, input_pattern):\n",
    "        self.weights[cluster] = self.weights[cluster] * input_pattern\n",
    "\n",
    "    def train(self, inputs):\n",
    "        inputs = np.array([self.complement_code(inp) for inp in inputs])  # Apply complement coding\n",
    "        for input_pattern in inputs:\n",
    "            assigned = False\n",
    "            for cluster in range(self.num_clusters):\n",
    "                if self.match(input_pattern, cluster) >= self.vigilance:\n",
    "                    self.update_weights(cluster, input_pattern)\n",
    "                    print(f\"Processing input: {input_pattern[:len(input_pattern)//2]} → Assigned to cluster {cluster}\")\n",
    "                    assigned = True\n",
    "                    break\n",
    "            if not assigned:\n",
    "                print(f\"Processing input: {input_pattern[:len(input_pattern)//2]} → Assigned to cluster -1 (No match)\")\n",
    "\n",
    "    def predict(self, input_pattern):\n",
    "        input_pattern = self.complement_code(input_pattern)\n",
    "        for cluster in range(self.num_clusters):\n",
    "            if self.match(input_pattern, cluster) >= self.vigilance:\n",
    "                return cluster\n",
    "        return -1  # No suitable cluster found\n",
    "\n",
    "# Example Usage\n",
    "if __name__ == \"__main__\":\n",
    "    inputs = np.array([\n",
    "        [1, 0, 1, 0],\n",
    "        [1, 1, 0, 0],\n",
    "        [0, 1, 1, 0],\n",
    "        [0, 0, 1, 1]\n",
    "    ])\n",
    "\n",
    "    art = ART_1(input_size=4, num_clusters=2, vigilance=0.5)\n",
    "    art.train(inputs)\n",
    "\n",
    "    test_inputs = np.array([\n",
    "        [1, 0, 1, 0],\n",
    "        [1, 1, 0, 0],\n",
    "        [0, 0, 0, 1],\n",
    "        [1, 1, 1, 0]\n",
    "    ])\n",
    "\n",
    "    for test_input in test_inputs:\n",
    "        cluster = art.predict(test_input)\n",
    "        print(f\"Test Input: {test_input} → Cluster {cluster if cluster != -1 else '-1 (No matching cluster)'}\")\n"
   ]
  },
  {
   "cell_type": "code",
   "execution_count": null,
   "id": "0e53d4e4-ddf0-4a5b-9bef-4a9910cbbaff",
   "metadata": {},
   "outputs": [],
   "source": []
  }
 ],
 "metadata": {
  "kernelspec": {
   "display_name": "Python [conda env:base]",
   "language": "python",
   "name": "conda-base-py"
  },
  "language_info": {
   "codemirror_mode": {
    "name": "ipython",
    "version": 3
   },
   "file_extension": ".py",
   "mimetype": "text/x-python",
   "name": "python",
   "nbconvert_exporter": "python",
   "pygments_lexer": "ipython3",
   "version": "3.12.7"
  }
 },
 "nbformat": 4,
 "nbformat_minor": 5
}
