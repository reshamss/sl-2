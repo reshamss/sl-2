{
 "cells": [
  {
   "cell_type": "code",
   "execution_count": 12,
   "id": "29618668-81f5-4dae-8c97-fe2d2210ab9b",
   "metadata": {
    "tags": []
   },
   "outputs": [
    {
     "name": "stdout",
     "output_type": "stream",
     "text": [
      "[[0.02291749]\n",
      " [0.94316892]\n",
      " [0.94423887]\n",
      " [0.07088367]]\n"
     ]
    }
   ],
   "source": [
    "import numpy as np\n",
    "\n",
    "# Set seed for reproducibility\n",
    "\n",
    "\n",
    "# Define sigmoid and its derivative\n",
    "def sigmoid(x):\n",
    "    return 1 / (1 + np.exp(-x))\n",
    "\n",
    "def sigmoid_derivative(x):\n",
    "    return x * (1 - x)\n",
    "\n",
    "# Training function\n",
    "def train_neural_network(X, y, learning_rate, epochs):\n",
    "    input_neurons = X.shape[1]\n",
    "    hidden_neurons = 4\n",
    "    output_neurons = y.shape[1]\n",
    "    \n",
    "    # Initialize weights with fixed random seed\n",
    "    hidden_weights = np.random.uniform(size=(input_neurons, hidden_neurons))\n",
    "    hidden_bias = np.random.uniform(size=(1, hidden_neurons))\n",
    "    output_weights = np.random.uniform(size=(hidden_neurons, output_neurons))\n",
    "    output_bias = np.random.uniform(size=(1, output_neurons))\n",
    "    \n",
    "    for i in range(epochs):\n",
    "        # Forward propagation\n",
    "        hidden_layer_activation = np.dot(X, hidden_weights) + hidden_bias\n",
    "        hidden_layer_output = sigmoid(hidden_layer_activation)\n",
    "\n",
    "        output_layer_activation = np.dot(hidden_layer_output, output_weights) + output_bias\n",
    "        predicted_output = sigmoid(output_layer_activation)\n",
    "\n",
    "        # Backpropagation\n",
    "        error = y - predicted_output\n",
    "        d_predicted_output = error * sigmoid_derivative(predicted_output)\n",
    "\n",
    "        error_hidden_layer = d_predicted_output.dot(output_weights.T)\n",
    "        d_hidden_layer = error_hidden_layer * sigmoid_derivative(hidden_layer_output)\n",
    "\n",
    "        # Update weights and biases\n",
    "        output_weights += hidden_layer_output.T.dot(d_predicted_output) * learning_rate\n",
    "        output_bias += np.sum(d_predicted_output, axis=0, keepdims=True) * learning_rate\n",
    "        hidden_weights += X.T.dot(d_hidden_layer) * learning_rate\n",
    "        hidden_bias += np.sum(d_hidden_layer, axis=0, keepdims=True) * learning_rate\n",
    "    \n",
    "    return predicted_output\n",
    "\n",
    "# Example usage\n",
    "X = np.array([[0, 0, 1], [0, 1, 1], [1, 0, 1], [1, 1, 1]])\n",
    "y = np.array([[0], [1], [1], [0]])\n",
    "\n",
    "# Train the Neural Network\n",
    "predicted_output = train_neural_network(X, y, learning_rate=0.1, epochs=10000)\n",
    "\n",
    "# Print the output\n",
    "print(predicted_output)\n"
   ]
  },
  {
   "cell_type": "code",
   "execution_count": null,
   "id": "d0786c5b-6e46-458b-a88e-68504debcf13",
   "metadata": {},
   "outputs": [],
   "source": []
  },
  {
   "cell_type": "code",
   "execution_count": null,
   "id": "f16e4337-5d35-481e-afd9-51df4fae035e",
   "metadata": {},
   "outputs": [],
   "source": []
  }
 ],
 "metadata": {
  "kernelspec": {
   "display_name": "Python 3 (ipykernel)",
   "language": "python",
   "name": "python3"
  },
  "language_info": {
   "codemirror_mode": {
    "name": "ipython",
    "version": 3
   },
   "file_extension": ".py",
   "mimetype": "text/x-python",
   "name": "python",
   "nbconvert_exporter": "python",
   "pygments_lexer": "ipython3",
   "version": "3.11.5"
  }
 },
 "nbformat": 4,
 "nbformat_minor": 5
}
