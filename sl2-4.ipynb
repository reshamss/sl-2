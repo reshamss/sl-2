{
 "cells": [
  {
   "cell_type": "code",
   "execution_count": 1,
   "id": "a6e6424b-b16e-437f-b34a-676bc2ded3a9",
   "metadata": {},
   "outputs": [
    {
     "name": "stdout",
     "output_type": "stream",
     "text": [
      "Predicted Digit: 2\n"
     ]
    }
   ],
   "source": [
    "from sklearn.neural_network import MLPClassifier\n",
    "import numpy as np\n",
    "\n",
    "# Training data\n",
    "digits = {\n",
    "    0: [[1,1,1],[1,0,1],[1,0,1],[1,0,1],[1,1,1]],\n",
    "    1: [[0,1,0],[1,1,0],[0,1,0],[0,1,0],[1,1,1]],\n",
    "    2: [[1,1,1],[0,0,1],[1,1,1],[1,0,0],[1,1,1]],\n",
    "    3: [[1,1,1],[0,0,1],[0,1,1],[0,0,1],[1,1,1]],\n",
    "    4: [[1,0,1],[1,0,1],[1,1,1],[0,0,1],[0,0,1]],\n",
    "    5: [[1,1,1],[1,0,0],[1,1,1],[0,0,1],[1,1,1]],\n",
    "    6: [[1,1,1],[1,0,0],[1,1,1],[1,0,1],[1,1,1]],\n",
    "    7: [[1,1,1],[0,0,1],[0,1,0],[1,0,0],[1,0,0]],\n",
    "    8: [[1,1,1],[1,0,1],[1,1,1],[1,0,1],[1,1,1]],\n",
    "    9: [[1,1,1],[1,0,1],[1,1,1],[0,0,1],[1,1,1]]\n",
    "}\n",
    "\n",
    "X = [np.array(v).flatten() for v in digits.values()]\n",
    "y = list(digits.keys())\n",
    "\n",
    "# Use better solver and higher iteration\n",
    "model = MLPClassifier(hidden_layer_sizes=(20,), solver='lbfgs', max_iter=2000)\n",
    "model.fit(X, y)\n",
    "\n",
    "# Prediction function\n",
    "def predict_digit(matrix):\n",
    "    return model.predict([np.array(matrix).flatten()])[0]\n",
    "\n",
    "# Test\n",
    "test = [[1,1,1],[0,0,1],[1,1,1],[1,0,0],[1,1,1]]  # Should predict 2\n",
    "print(\"Predicted Digit:\", predict_digit(test))\n"
   ]
  },
  {
   "cell_type": "code",
   "execution_count": null,
   "id": "4f7738f9-4297-459c-ba7d-780013cbb343",
   "metadata": {},
   "outputs": [],
   "source": []
  }
 ],
 "metadata": {
  "kernelspec": {
   "display_name": "Python [conda env:base]",
   "language": "python",
   "name": "conda-base-py"
  },
  "language_info": {
   "codemirror_mode": {
    "name": "ipython",
    "version": 3
   },
   "file_extension": ".py",
   "mimetype": "text/x-python",
   "name": "python",
   "nbconvert_exporter": "python",
   "pygments_lexer": "ipython3",
   "version": "3.12.7"
  }
 },
 "nbformat": 4,
 "nbformat_minor": 5
}
