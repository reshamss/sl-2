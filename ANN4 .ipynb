{
 "cells": [
  {
   "cell_type": "code",
   "execution_count": 1,
   "id": "35f61a81",
   "metadata": {},
   "outputs": [
    {
     "data": {
      "image/png": "[encoded data removed]",
      "text/plain": [
       "<Figure size 640x480 with 1 Axes>"
      ]
     },
     "metadata": {},
     "output_type": "display_data"
    }
   ],
   "source": [
    "import numpy as np\n",
    "import matplotlib.pyplot as plt\n",
    "\n",
    "X = np.array([[0, 0], [1, 0], [0, 1], [1, 1]])\n",
    "Y = np.array([-1, -1, -1, 1])\n",
    "\n",
    "w = np.zeros(X.shape[1])\n",
    "b = 0\n",
    "\n",
    "for _ in range(6):\n",
    "    for i in range(X.shape[0]):\n",
    "        y_pred = np.sign(np.dot(X[i], w) + b)\n",
    "        \n",
    "        if y_pred != Y[i]:\n",
    "            w += 0.3 * Y[i] * X[i]\n",
    "            b += 0.3 * Y[i]\n",
    "\n",
    "x_min, x_max = X[:, 0].min() - 1, X[:, 0].max() + 1\n",
    "y_min, y_max = X[:, 1].min() - 1, X[:, 1].max() + 1\n",
    "xx, yy = np.meshgrid(np.arange(x_min, x_max, 0.01),\n",
    "                     np.arange(y_min, y_max, 0.01))\n",
    "\n",
    "Z = np.sign(np.dot(np.c_[xx.ravel(), yy.ravel()], w) + b)\n",
    "Z = Z.reshape(xx.shape)\n",
    "\n",
    "plt.contourf(xx, yy, Z, alpha=0.8)\n",
    "plt.scatter(X[:, 0], X[:, 1], c=Y)\n",
    "plt.xlabel('X1')\n",
    "plt.ylabel('X2')\n",
    "plt.title('Perceptron Decision Regions')\n",
    "plt.show()"
   ]
  },
  {
   "cell_type": "code",
   "execution_count": null,
   "id": "1c37dc92",
   "metadata": {},
   "outputs": [],
   "source": [
    "import numpy as np\n",
    "\n",
    "# Step 1: Define the sigmoid function and its derivative\n",
    "def sigmoid(x):\n",
    "    return 1 / (1 + np.exp(-x))\n",
    "\n",
    "def sigmoid_derivative(x):\n",
    "    return x * (1 - x)\n",
    "\n",
    "# Step 2: Define the training function for the neural network\n",
    "def train_neural_network(X, y, learning_rate, epochs):\n",
    "    # Step 3: Initialize the weights and biases with random values\n",
    "    input_neurons = X.shape[1]\n",
    "    hidden_neurons = 4\n",
    "    output_neurons = y.shape[1]\n",
    "    \n",
    "    hidden_weights = np.random.uniform(size=(input_neurons, hidden_neurons))\n",
    "    hidden_bias = np.random.uniform(size=(1, hidden_neurons))\n",
    "    output_weights = np.random.uniform(size=(hidden_neurons, output_neurons))\n",
    "    output_bias = np.random.uniform(size=(1, output_neurons))\n",
    "    \n",
    "    # Step 4: Perform the training iterations\n",
    "    for i in range(epochs):\n",
    "        # Step 4.1: Forward propagation\n",
    "        hidden_layer_activation = np.dot(X, hidden_weights) + hidden_bias\n",
    "        hidden_layer_output = sigmoid(hidden_layer_activation)\n",
    "\n",
    "        output_layer_activation = np.dot(hidden_layer_output, output_weights) + output_bias\n",
    "        predicted_output = sigmoid(output_layer_activation)\n",
    "\n",
    "        # Step 4.2: Backward propagation\n",
    "        error = y - predicted_output\n",
    "        d_predicted_output = error * sigmoid_derivative(predicted_output)\n",
    "\n",
    "        error_hidden_layer = d_predicted_output.dot(output_weights.T)\n",
    "        d_hidden_layer = error_hidden_layer * sigmoid_derivative(hidden_layer_output)\n",
    "\n",
    "        # Step 4.3: Update the weights and biases\n",
    "        output_weights += hidden_layer_output.T.dot(d_predicted_output) * learning_rate\n",
    "        output_bias += np.sum(d_predicted_output, axis=0, keepdims=True) * learning_rate\n",
    "        hidden_weights += X.T.dot(d_hidden_layer) * learning_rate\n",
    "        hidden_bias += np.sum(d_hidden_layer, axis=0, keepdims=True) * learning_rate\n",
    "    \n",
    "    # Step 5: Return the predicted output\n",
    "    return predicted_output\n",
    "\n",
    "# Example usage\n",
    "X = np.array([[0, 0, 1], [0, 1, 1], [1, 0, 1], [1, 1, 1]])\n",
    "y = np.array([[0], [1], [1], [0]])\n",
    "\n",
    "# Train the Neural Network\n",
    "predicted_output = train_neural_network(X, y, learning_rate=0.1, epochs=10000)\n",
    "\n",
    "print(predicted_output)"
   ]
  },
  {
   "cell_type": "code",
   "execution_count": null,
   "id": "392601f4",
   "metadata": {},
   "outputs": [],
   "source": []
  }
 ],
 "metadata": {
  "kernelspec": {
   "display_name": "Python 3 (ipykernel)",
   "language": "python",
   "name": "python3"
  },
  "language_info": {
   "codemirror_mode": {
    "name": "ipython",
    "version": 3
   },
   "file_extension": ".py",
   "mimetype": "text/x-python",
   "name": "python",
   "nbconvert_exporter": "python",
   "pygments_lexer": "ipython3",
   "version": "3.11.5"
  }
 },
 "nbformat": 4,
 "nbformat_minor": 5
}
