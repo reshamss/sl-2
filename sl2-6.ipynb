{
 "cells": [
  {
   "cell_type": "code",
   "execution_count": 5,
   "id": "96bc1292-6c43-4ace-b145-a5a7cef4afe9",
   "metadata": {},
   "outputs": [
    {
     "name": "stdout",
     "output_type": "stream",
     "text": [
      "Output after Forward Propagation:\n",
      "[[0.99612501]\n",
      " [0.99644712]\n",
      " [0.99354137]\n",
      " [0.99184932]]\n"
     ]
    }
   ],
   "source": [
    "import numpy as np\n",
    "\n",
    "def sigmoid(x):\n",
    "    return 1 / (1 + np.exp(-x))\n",
    "\n",
    "# Assume X, weights_input_hidden, weights_hidden_output, hidden_neurons, output_neurons are already defined\n",
    "\n",
    "# Initialize biases randomly\n",
    "bias_hidden = np.random.uniform(-1, 1, (1, hidden_neurons))\n",
    "bias_output = np.random.uniform(-1, 1, (1, output_neurons))\n",
    "\n",
    "# Forward Propagation\n",
    "hidden_layer_input = np.dot(X, weights_input_hidden) + bias_hidden\n",
    "hidden_layer_output = sigmoid(hidden_layer_input)\n",
    "\n",
    "output_layer_input = np.dot(hidden_layer_output, weights_hidden_output) + bias_output\n",
    "output = sigmoid(output_layer_input)\n",
    "\n",
    "print(\"Output after Forward Propagation:\")\n",
    "print(output)"
   ]
  },
  {
   "cell_type": "code",
   "execution_count": 7,
   "id": "43f2b752-4401-4f73-87ff-893ffe672983",
   "metadata": {},
   "outputs": [
    {
     "name": "stdout",
     "output_type": "stream",
     "text": [
      "Epoch 1000, Cost: 0.2392\n",
      "Epoch 2000, Cost: 0.1510\n",
      "Epoch 3000, Cost: 0.0287\n",
      "Epoch 4000, Cost: 0.0109\n",
      "Epoch 5000, Cost: 0.0062\n",
      "Epoch 6000, Cost: 0.0043\n",
      "Epoch 7000, Cost: 0.0032\n",
      "Epoch 8000, Cost: 0.0025\n",
      "Epoch 9000, Cost: 0.0021\n",
      "Epoch 10000, Cost: 0.0018\n",
      "\n",
      "Predicted Output after Training:\n",
      "[[0.04490647]\n",
      " [0.95965947]\n",
      " [0.95728801]\n",
      " [0.04008788]]\n",
      "\n",
      "Rounded Output (Classification):\n",
      "[[0.]\n",
      " [1.]\n",
      " [1.]\n",
      " [0.]]\n"
     ]
    }
   ],
   "source": [
    "import numpy as np\n",
    "\n",
    "# Sigmoid activation function\n",
    "def sigmoid(x):\n",
    "    return 1 / (1 + np.exp(-x))\n",
    "\n",
    "# Sigmoid derivative function for backpropagation\n",
    "def sigmoid_derivative(x):\n",
    "    return x * (1 - x)  # Corrected derivative\n",
    "\n",
    "# XOR Input and Output\n",
    "X = np.array([[0, 0], [0, 1], [1, 0], [1, 1]])  # Input data\n",
    "y = np.array([[0], [1], [1], [0]])              # Expected XOR output\n",
    "\n",
    "# Neural Network structure\n",
    "input_neurons = 2\n",
    "hidden_neurons = 4\n",
    "output_neurons = 1\n",
    "learning_rate = 0.1\n",
    "epochs = 10000\n",
    "\n",
    "# Initialize weights and biases\n",
    "np.random.seed(42)  # For reproducibility\n",
    "weights_input_hidden = np.random.uniform(-1, 1, (input_neurons, hidden_neurons))\n",
    "weights_hidden_output = np.random.uniform(-1, 1, (hidden_neurons, output_neurons))\n",
    "bias_hidden = np.random.uniform(-1, 1, (1, hidden_neurons))\n",
    "bias_output = np.random.uniform(-1, 1, (1, output_neurons))\n",
    "\n",
    "# Training the neural network\n",
    "for epoch in range(epochs):\n",
    "    # Forward propagation\n",
    "    hidden_layer_input = np.dot(X, weights_input_hidden) + bias_hidden\n",
    "    hidden_layer_output = sigmoid(hidden_layer_input)\n",
    "    output_layer_input = np.dot(hidden_layer_output, weights_hidden_output) + bias_output\n",
    "    predicted_output = sigmoid(output_layer_input)\n",
    "\n",
    "    # Backpropagation\n",
    "    output_error = y - predicted_output\n",
    "    output_delta = output_error * sigmoid_derivative(predicted_output)\n",
    "\n",
    "    hidden_layer_error = output_delta.dot(weights_hidden_output.T)\n",
    "    hidden_layer_delta = hidden_layer_error * sigmoid_derivative(hidden_layer_output)\n",
    "\n",
    "    # Update weights and biases\n",
    "    weights_hidden_output += hidden_layer_output.T.dot(output_delta) * learning_rate\n",
    "    bias_output += np.sum(output_delta, axis=0, keepdims=True) * learning_rate\n",
    "    weights_input_hidden += X.T.dot(hidden_layer_delta) * learning_rate\n",
    "    bias_hidden += np.sum(hidden_layer_delta, axis=0, keepdims=True) * learning_rate\n",
    "\n",
    "    # Print cost every 1000 epochs\n",
    "    if (epoch + 1) % 1000 == 0:\n",
    "        cost = np.mean(np.square(output_error))\n",
    "        print(f\"Epoch {epoch + 1}, Cost: {cost:.4f}\")\n",
    "\n",
    "# Testing the trained network\n",
    "hidden_layer_input = np.dot(X, weights_input_hidden) + bias_hidden\n",
    "hidden_layer_output = sigmoid(hidden_layer_input)\n",
    "output_layer_input = np.dot(hidden_layer_output, weights_hidden_output) + bias_output\n",
    "predicted_output = sigmoid(output_layer_input)\n",
    "\n",
    "print(\"\\nPredicted Output after Training:\")\n",
    "print(predicted_output)\n",
    "\n",
    "# Round the output for classification\n",
    "rounded_output = np.round(predicted_output)\n",
    "print(\"\\nRounded Output (Classification):\")\n",
    "print(rounded_output)"
   ]
  },
  {
   "cell_type": "code",
   "execution_count": null,
   "id": "6a344360-1825-49b4-86a9-572e4e61bf99",
   "metadata": {},
   "outputs": [],
   "source": []
  }
 ],
 "metadata": {
  "kernelspec": {
   "display_name": "Python [conda env:base]",
   "language": "python",
   "name": "conda-base-py"
  },
  "language_info": {
   "codemirror_mode": {
    "name": "ipython",
    "version": 3
   },
   "file_extension": ".py",
   "mimetype": "text/x-python",
   "name": "python",
   "nbconvert_exporter": "python",
   "pygments_lexer": "ipython3",
   "version": "3.12.7"
  }
 },
 "nbformat": 4,
 "nbformat_minor": 5
}
