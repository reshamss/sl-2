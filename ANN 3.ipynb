{
 "cells": [
  {
   "cell_type": "code",
   "execution_count": null,
   "id": "e733db7a",
   "metadata": {},
   "outputs": [
    {
     "name": "stdout",
     "output_type": "stream",
     "text": [
      "Enter a Number (0-9) or 'exit' to quit: 8\n",
      "8 is even\n",
      "Enter a Number (0-9) or 'exit' to quit: 9\n",
      "9 is odd\n",
      "Enter a Number (0-9) or 'exit' to quit: 5\n",
      "5 is odd\n",
      "Enter a Number (0-9) or 'exit' to quit: 0\n",
      "0 is even\n",
      "Enter a Number (0-9) or 'exit' to quit: 7\n",
      "7 is odd\n"
     ]
    }
   ],
   "source": [
    "import numpy as np\n",
    "\n",
    "step_function = lambda x: 1 if x >= 0 else 0\n",
    "\n",
    "training_data = [\n",
    "    {'input': [1, 1, 0, 0, 0, 0], 'label': 1},\n",
    "    {'input': [1, 1, 0, 0, 0, 1], 'label': 0},\n",
    "    {'input': [1, 1, 0, 0, 1, 0], 'label': 1},\n",
    "    {'input': [1, 1, 0, 0, 1, 1], 'label': 0},\n",
    "    {'input': [1, 1, 0, 1, 0, 0], 'label': 1},\n",
    "    {'input': [1, 1, 0, 1, 0, 1], 'label': 0},\n",
    "    {'input': [1, 1, 0, 1, 1, 0], 'label': 1},\n",
    "    {'input': [1, 1, 0, 1, 1, 1], 'label': 0},\n",
    "    {'input': [1, 1, 1, 0, 0, 0], 'label': 1},\n",
    "    {'input': [1, 1, 1, 0, 0, 1], 'label': 0},\n",
    "]\n",
    "\n",
    "weights = np.zeros(6)\n",
    "for _ in range(10):\n",
    "    for data in training_data:\n",
    "        inputs = np.array(data['input'])\n",
    "        label = data['label']\n",
    "        output = step_function(np.dot(inputs, weights))\n",
    "        weights += 0.1 * (label - output) * inputs\n",
    "\n",
    "while True:\n",
    "    user_input = input(\"Enter a Number (0-9) or 'exit' to quit: \")\n",
    "    if user_input.lower() == 'exit':\n",
    "        break\n",
    "    if user_input.isdigit() and 0 <= int(user_input) <= 9:\n",
    "        inputs = [int(x) for x in '{0:06b}'.format(int(user_input))]\n",
    "        result = \"even\" if step_function(np.dot(inputs, weights)) == 1 else \"odd\"\n",
    "        print(user_input, \"is\", result)\n",
    "    else:\n",
    "        print(\"Invalid input. Try again.\")"
   ]
  },
  {
   "cell_type": "code",
   "execution_count": null,
   "id": "cb48fd55",
   "metadata": {},
   "outputs": [],
   "source": []
  }
 ],
 "metadata": {
  "kernelspec": {
   "display_name": "Python 3 (ipykernel)",
   "language": "python",
   "name": "python3"
  },
  "language_info": {
   "codemirror_mode": {
    "name": "ipython",
    "version": 3
   },
   "file_extension": ".py",
   "mimetype": "text/x-python",
   "name": "python",
   "nbconvert_exporter": "python",
   "pygments_lexer": "ipython3",
   "version": "3.11.5"
  }
 },
 "nbformat": 4,
 "nbformat_minor": 5
}
