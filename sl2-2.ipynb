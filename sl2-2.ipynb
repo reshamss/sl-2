{
 "cells": [
  {
   "cell_type": "code",
   "execution_count": 1,
   "id": "c6a72a37-9fe2-45b2-8520-71e01e266df1",
   "metadata": {},
   "outputs": [
    {
     "name": "stdout",
     "output_type": "stream",
     "text": [
      "X1    X2    Y    \n",
      "---------------\n",
      "0     0     0    \n",
      "0     1     0    \n",
      "1     0     1    \n",
      "1     1     0    \n"
     ]
    }
   ],
   "source": [
    "import numpy as np\n",
    "\n",
    "def mp_neuron(inputs, weights, threshold):\n",
    "    weighted_sum = np.dot(inputs, weights)\n",
    "    output = int(weighted_sum >= threshold)\n",
    "    return output\n",
    "\n",
    "def and_not(x1, x2):\n",
    "    weights = [1, -1]\n",
    "    threshold = 1\n",
    "    inputs = np.array([x1, x2])\n",
    "    output = mp_neuron(inputs, weights, threshold)\n",
    "    return output\n",
    "\n",
    "result = [(i, j, and_not(i, j)) for i in range(2) for j in range(2)]\n",
    "\n",
    "print(f\"{'X1':<5} {'X2':<5} {'Y':<5}\")\n",
    "print(\"-\" * 15)\n",
    "\n",
    "for row in result:\n",
    "    print(f\"{row[0]:<5} {row[1]:<5} {row[2]:<5}\")\n"
   ]
  },
  {
   "cell_type": "code",
   "execution_count": null,
   "id": "1205a095-f746-48ec-ac30-9f76759bc017",
   "metadata": {},
   "outputs": [],
   "source": []
  }
 ],
 "metadata": {
  "kernelspec": {
   "display_name": "Python [conda env:base]",
   "language": "python",
   "name": "conda-base-py"
  },
  "language_info": {
   "codemirror_mode": {
    "name": "ipython",
    "version": 3
   },
   "file_extension": ".py",
   "mimetype": "text/x-python",
   "name": "python",
   "nbconvert_exporter": "python",
   "pygments_lexer": "ipython3",
   "version": "3.12.7"
  }
 },
 "nbformat": 4,
 "nbformat_minor": 5
}
