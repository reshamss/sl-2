{
 "cells": [
  {
   "cell_type": "code",
   "execution_count": 2,
   "id": "03ab7378",
   "metadata": {},
   "outputs": [
    {
     "name": "stdout",
     "output_type": "stream",
     "text": [
      "Testing recall on original patterns:\n",
      "Pattern 1:\n",
      "Input:   [ 1  1 -1 -1]\n",
      "Output:  [ 1  1 -1 -1]\n",
      "\n",
      "Pattern 2:\n",
      "Input:   [-1 -1  1  1]\n",
      "Output:  [-1 -1  1  1]\n",
      "\n",
      "Pattern 3:\n",
      "Input:   [ 1 -1  1 -1]\n",
      "Output:  [ 1 -1  1 -1]\n",
      "\n",
      "Pattern 4:\n",
      "Input:   [-1  1 -1  1]\n",
      "Output:  [-1  1 -1  1]\n",
      "\n",
      "Testing with noisy input:\n",
      "Noisy input:  [ 1  1 -1  1]\n",
      "Recovered:    [-1  1 -1 -1]\n"
     ]
    }
   ],
   "source": [
    "import numpy as np\n",
    "\n",
    "class HopfieldNetwork:\n",
    "    def __init__(self):\n",
    "        self.weights = None\n",
    "\n",
    "    def train(self, patterns):\n",
    "        num_neurons = patterns.shape[1]\n",
    "        self.weights = np.zeros((num_neurons, num_neurons))\n",
    "\n",
    "        for p in patterns:\n",
    "            self.weights += np.outer(p, p)\n",
    "\n",
    "        np.fill_diagonal(self.weights, 0)  # Remove self-connections\n",
    "        self.weights /= patterns.shape[0]  # Normalize\n",
    "\n",
    "    def activation(self, x):\n",
    "        return np.where(x >= 0, 1, -1)\n",
    "\n",
    "    def recall(self, pattern, steps=5):\n",
    "        output = pattern.copy()\n",
    "        for _ in range(steps):\n",
    "            output = self.activation(np.dot(self.weights, output))\n",
    "        return output\n",
    "\n",
    "# --- Example usage ---\n",
    "if __name__ == \"__main__\":\n",
    "    # Define binary patterns to store (-1 and 1)\n",
    "    patterns = np.array([\n",
    "        [1, 1, -1, -1],\n",
    "        [-1, -1, 1, 1],\n",
    "        [1, -1, 1, -1],\n",
    "        [-1, 1, -1, 1]\n",
    "    ])\n",
    "\n",
    "    hopfield_net = HopfieldNetwork()\n",
    "    hopfield_net.train(patterns)\n",
    "\n",
    "    print(\"Testing recall on original patterns:\")\n",
    "    for i, p in enumerate(patterns):\n",
    "        output = hopfield_net.recall(p)\n",
    "        print(f\"Pattern {i+1}:\")\n",
    "        print(\"Input:  \", p)\n",
    "        print(\"Output: \", output)\n",
    "        print()\n",
    "\n",
    "    # Test with noisy input\n",
    "    noisy_input = np.array([1, 1, -1, 1])  # Flip one bit of first pattern\n",
    "    output = hopfield_net.recall(noisy_input)\n",
    "\n",
    "    print(\"Testing with noisy input:\")\n",
    "    print(\"Noisy input: \", noisy_input)\n",
    "    print(\"Recovered:   \", output)\n"
   ]
  },
  {
   "cell_type": "code",
   "execution_count": null,
   "id": "6da0cc15",
   "metadata": {},
   "outputs": [],
   "source": []
  }
 ],
 "metadata": {
  "kernelspec": {
   "display_name": "Python 3 (ipykernel)",
   "language": "python",
   "name": "python3"
  },
  "language_info": {
   "codemirror_mode": {
    "name": "ipython",
    "version": 3
   },
   "file_extension": ".py",
   "mimetype": "text/x-python",
   "name": "python",
   "nbconvert_exporter": "python",
   "pygments_lexer": "ipython3",
   "version": "3.11.5"
  }
 },
 "nbformat": 4,
 "nbformat_minor": 5
}
