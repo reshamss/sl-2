{
 "cells": [
  {
   "cell_type": "code",
   "execution_count": 2,
   "id": "23d0e7b7-c82a-48c0-bcbf-44da0418e68c",
   "metadata": {},
   "outputs": [],
   "source": [
    "import numpy as np"
   ]
  },
  {
   "cell_type": "code",
   "execution_count": 4,
   "id": "78c42abf-12b1-41ed-b69e-e765d2342d61",
   "metadata": {},
   "outputs": [
    {
     "name": "stdout",
     "output_type": "stream",
     "text": [
      "Noisy Input: [ 1 -1 -1 -1]\n",
      "Recalled Pattern: [ 1.  1.  1. -1.]\n"
     ]
    }
   ],
   "source": [
    "class HopfieldNetwork:\n",
    "    def __init__(self, size):\n",
    "        self.size = size\n",
    "        self.weights = np.zeros((size, size))\n",
    "\n",
    "    def train(self, patterns):\n",
    "        for p in patterns:\n",
    "            p = p.reshape(-1, 1)\n",
    "            self.weights += np.dot(p, p.T)\n",
    "        np.fill_diagonal(self.weights, 0)  # No self-connection\n",
    "\n",
    "    def recall(self, pattern, steps=5):\n",
    "        for _ in range(steps):\n",
    "            pattern = np.sign(np.dot(self.weights, pattern))\n",
    "        return pattern\n",
    "\n",
    "# Define the stored patterns (4 vectors)\n",
    "stored_patterns = np.array([\n",
    "    [1, -1, 1, -1],\n",
    "    [-1, 1, -1, 1],\n",
    "    [1, 1, -1, -1],\n",
    "    [-1, -1, 1, 1]\n",
    "])\n",
    "\n",
    "# Initialize and train the Hopfield Network\n",
    "hopfield_net = HopfieldNetwork(size=4)\n",
    "hopfield_net.train(stored_patterns)\n",
    "\n",
    "# Test the network with a noisy input\n",
    "noisy_input = np.array([1, -1, -1, -1])\n",
    "recalled_pattern = hopfield_net.recall(noisy_input)\n",
    "\n",
    "print(\"Noisy Input:\", noisy_input)\n",
    "print(\"Recalled Pattern:\", recalled_pattern)\n"
   ]
  },
  {
   "cell_type": "code",
   "execution_count": null,
   "id": "213812d6-4418-40cc-8e39-36f0d17fc73c",
   "metadata": {},
   "outputs": [],
   "source": []
  }
 ],
 "metadata": {
  "kernelspec": {
   "display_name": "Python [conda env:base]",
   "language": "python",
   "name": "conda-base-py"
  },
  "language_info": {
   "codemirror_mode": {
    "name": "ipython",
    "version": 3
   },
   "file_extension": ".py",
   "mimetype": "text/x-python",
   "name": "python",
   "nbconvert_exporter": "python",
   "pygments_lexer": "ipython3",
   "version": "3.12.7"
  }
 },
 "nbformat": 4,
 "nbformat_minor": 5
}
