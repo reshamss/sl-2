{
 "cells": [
  {
   "cell_type": "code",
   "execution_count": 30,
   "id": "b7c8f6a3",
   "metadata": {},
   "outputs": [
    {
     "name": "stdout",
     "output_type": "stream",
     "text": [
      "X1\t X2\t Formula\t\t\t\t Output\n",
      "0\t0\t(0 * 1) + (0 * 1) = 0\t\t\t0\n",
      "0\t1\t(0 * 1) + (1 * 1) = 1\t\t\t1\n",
      "1\t0\t(1 * 1) + (0 * 1) = 1\t\t\t1\n",
      "1\t1\t(1 * 1) + (1 * 1) = 2\t\t\t1\n"
     ]
    }
   ],
   "source": [
    "import numpy as np\n",
    "\n",
    "def mp_neuron(inputs, weights, threshold):\n",
    "    weighted_sum = np.dot(inputs, weights)\n",
    "    output = 1 if weighted_sum >= threshold else 0\n",
    "    return output\n",
    "\n",
    "def and_not(x1, x2):\n",
    "    weights = np.array([1, 1]) \n",
    "    threshold = 1  \n",
    "    inputs = np.array([x1, x2])\n",
    "    output = mp_neuron(inputs, weights, threshold)\n",
    "    formula = f\"({x1} * 1) + ({x2} * 1) = {np.dot(inputs, weights)}\"\n",
    "    \n",
    "    return output, formula\n",
    "\n",
    "print(\"X1\\t X2\\t Formula\\t\\t\\t\\t Output\")\n",
    "for x1 in [0, 1]:\n",
    "    for x2 in [0, 1]:\n",
    "        output, formula = and_not(x1, x2)\n",
    "        print(f\"{x1}\\t{x2}\\t{formula}\\t\\t\\t{output}\")\n"
   ]
  },
  {
   "cell_type": "code",
   "execution_count": null,
   "id": "768a9cd5",
   "metadata": {},
   "outputs": [],
   "source": []
  }
 ],
 "metadata": {
  "kernelspec": {
   "display_name": "Python 3 (ipykernel)",
   "language": "python",
   "name": "python3"
  },
  "language_info": {
   "codemirror_mode": {
    "name": "ipython",
    "version": 3
   },
   "file_extension": ".py",
   "mimetype": "text/x-python",
   "name": "python",
   "nbconvert_exporter": "python",
   "pygments_lexer": "ipython3",
   "version": "3.11.5"
  }
 },
 "nbformat": 4,
 "nbformat_minor": 5
}
